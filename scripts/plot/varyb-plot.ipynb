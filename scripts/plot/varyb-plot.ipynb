{
 "cells": [
  {
   "cell_type": "markdown",
   "metadata": {},
   "source": [
    "# Varying block size plotting scripts"
   ]
  },
  {
   "cell_type": "code",
   "execution_count": 19,
   "metadata": {},
   "outputs": [],
   "source": [
    "# Import necessary libraries \n",
    "import matplotlib.pyplot as plt\n",
    "from numpy import percentile"
   ]
  },
  {
   "cell_type": "code",
   "execution_count": 37,
   "metadata": {},
   "outputs": [],
   "source": [
    "ROOT=\"/run/media/haxolotl/Backup/GitRoot/libapollo-rust\"\n",
    "# data_file = f\"{ROOT}/data/May04/t2med/varyb\"\n",
    "# data_file = f\"{ROOT}/data/May04/c5-4xlarge/varyb\"\n",
    "# data_file = f\"{ROOT}/data/May05/parity/varyb\"\n",
    "data_file = f\"{ROOT}/data/May05/t2med-local/varyb\"\n",
    "Protocols = [\"artemis\",\"apollo\",\"optsync\"]\n",
    "Blocksizes = [100,400,800,1600,3200]\n",
    "Markers = {\n",
    "    \"artemis\": \"+\",\n",
    "    \"apollo\": \"o\",\n",
    "    \"optsync\": \"x\",\n",
    "}\n",
    "Name = {\n",
    "    \"artemis\": \"Artemis\",\n",
    "    \"apollo\": \"Apollo\",\n",
    "    \"optsync\": \"Opt Sync\"\n",
    "}"
   ]
  },
  {
   "cell_type": "code",
   "execution_count": 52,
   "metadata": {},
   "outputs": [],
   "source": [
    "data = {}\n",
    "for p in Protocols:\n",
    "    data[p] = {}\n",
    "\n",
    "# Process the given log_file\n",
    "def process_log_file(log_file:str, log_data={\"w\":[],\"tput\":[],\"lat\":[]}):\n",
    "    with open(log_file, \"r\") as f:\n",
    "        for line in f.readlines():\n",
    "            if line.count(\"DP[Window]: \") > 0:\n",
    "                window = int(line.split(\"DP[Window]: \")[1].strip())\n",
    "                log_data[\"w\"].append(window/1000)\n",
    "            if line.count(\"DP[Throughput]: \") > 0:\n",
    "                tput = float(line.split(\"DP[Throughput]: \")[1].strip())\n",
    "                log_data[\"tput\"].append(tput/1000)\n",
    "            if line.count(\"DP[Latency]: \") > 0:\n",
    "                lat = float(line.split(\"DP[Latency]: \")[1].strip())\n",
    "                log_data[\"lat\"].append(lat)\n",
    "\n",
    "# Function to add data to the dictionary\n",
    "def add_data(Protocol:str, Blocksize:int, in_data={}):\n",
    "    # Reset stale data\n",
    "    if Protocol not in in_data.keys():\n",
    "        in_data[Protocol] = {}\n",
    "    # Overwrite whatever stale blocksize data was there, with a new one\n",
    "    in_data[Protocol][Blocksize] = {\n",
    "        \"w\": [],\n",
    "        \"tput\": [],\n",
    "        \"lat\": []\n",
    "    }\n",
    "    # Process the file\n",
    "    log_file = f\"{data_file}/b{Blocksize}-{Protocol}-run.log\"\n",
    "    log_data = process_log_file(log_file, in_data[Protocol][Blocksize])\n",
    "\n",
    "for p in Protocols:\n",
    "    for b in Blocksizes:\n",
    "        add_data(p,b,data)\n",
    "\n",
    "import json \n",
    "with open(f\"{data_file}/processed.json\",\"w\") as f:\n",
    "    json.dump(data, f, indent=4)\n",
    "# print(data[\"synchs\"])"
   ]
  },
  {
   "cell_type": "code",
   "execution_count": 45,
   "metadata": {},
   "outputs": [
    {
     "name": "stdout",
     "output_type": "stream",
     "text": [
      "0.log\n",
      "1.log\n",
      "2.log\n",
      "benches\n",
      "Cargo.lock\n",
      "Cargo.toml\n",
      "client.log\n",
      "cli_ip_file\n",
      "config\n",
      "consensus\n",
      "crypto\n",
      "data\n",
      "examples\n",
      "ip_file\n",
      "logs.txt\n",
      "Makefile\n",
      "net\n",
      "perf.data\n",
      "perf.data.old\n",
      "Plots\n",
      "scripts\n",
      "src\n",
      "target\n",
      "testdata\n",
      "TODO.md\n",
      "tools\n",
      "types\n",
      "util\n"
     ]
    }
   ],
   "source": [
    "%%bash\n",
    "# Export to the overleaf document\n",
    "cd \"/run/media/haxolotl/Backup/GitRoot/libapollo-rust\"\n"
   ]
  },
 ],
 "metadata": {
  "kernelspec": {
   "display_name": "Python 3",
   "language": "python",
   "name": "python3"
  },
  "language_info": {
   "codemirror_mode": {
    "name": "ipython",
    "version": 3
   },
   "file_extension": ".py",
   "mimetype": "text/x-python",
   "name": "python",
   "nbconvert_exporter": "python",
   "pygments_lexer": "ipython3",
   "version": "3.9.3"
  }
 },
 "nbformat": 4,
 "nbformat_minor": 4
}